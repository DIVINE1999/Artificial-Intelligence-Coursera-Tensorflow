{
  "nbformat": 4,
  "nbformat_minor": 0,
  "metadata": {
    "colab": {
      "name": "NLP-Week4-Exercise-Shakespeare-Question.ipynb",
      "provenance": []
    },
    "kernelspec": {
      "name": "python2",
      "display_name": "Python 2"
    },
    "accelerator": "GPU"
  },
  "cells": [
    {
      "cell_type": "code",
      "metadata": {
        "id": "BOwsuGQQY9OL",
        "colab_type": "code",
        "colab": {}
      },
      "source": [
        "from tensorflow.keras.preprocessing.sequence import pad_sequences\n",
        "from tensorflow.keras.layers import Embedding, LSTM, Dense, Dropout, Bidirectional\n",
        "from tensorflow.keras.preprocessing.text import Tokenizer\n",
        "from tensorflow.keras.models import Sequential\n",
        "from tensorflow.keras.optimizers import Adam\n",
        "### YOUR CODE HERE\n",
        "from tensorflow.keras import regularizers\n",
        "###\n",
        "import tensorflow.keras.utils as ku \n",
        "import numpy as np "
      ],
      "execution_count": 0,
      "outputs": []
    },
    {
      "cell_type": "code",
      "metadata": {
        "colab_type": "code",
        "id": "PRnDnCW-Z7qv",
        "colab": {
          "base_uri": "https://localhost:8080/",
          "height": 204
        },
        "outputId": "a05073a4-fde4-4e64-ce1a-6b1c7187ebde"
      },
      "source": [
        "tokenizer = Tokenizer()\n",
        "!wget --no-check-certificate \\\n",
        "    https://storage.googleapis.com/laurencemoroney-blog.appspot.com/sonnets.txt \\\n",
        "    -O /tmp/sonnets.txt\n",
        "data = open('/tmp/sonnets.txt').read()\n",
        "\n",
        "corpus = data.lower().split(\"\\n\")\n",
        "\n",
        "\n",
        "tokenizer.fit_on_texts(corpus)\n",
        "total_words = len(tokenizer.word_index) + 1\n",
        "\n",
        "# create input sequences using list of tokens\n",
        "input_sequences = []\n",
        "for line in corpus:\n",
        "\ttoken_list = tokenizer.texts_to_sequences([line])[0]\n",
        "\tfor i in range(1, len(token_list)):\n",
        "\t\tn_gram_sequence = token_list[:i+1]\n",
        "\t\tinput_sequences.append(n_gram_sequence)\n",
        "\n",
        "\n",
        "# pad sequences \n",
        "max_sequence_len = max([len(x) for x in input_sequences])\n",
        "input_sequences = np.array(pad_sequences(input_sequences, maxlen=max_sequence_len, padding='pre'))\n",
        "\n",
        "# create predictors and label\n",
        "predictors, label = input_sequences[:,:-1],input_sequences[:,-1]\n",
        "\n",
        "label = ku.to_categorical(label, num_classes=total_words)"
      ],
      "execution_count": 2,
      "outputs": [
        {
          "output_type": "stream",
          "text": [
            "--2019-09-23 17:51:07--  https://storage.googleapis.com/laurencemoroney-blog.appspot.com/sonnets.txt\n",
            "Resolving storage.googleapis.com (storage.googleapis.com)... 172.217.218.128, 2a00:1450:4013:c05::80\n",
            "Connecting to storage.googleapis.com (storage.googleapis.com)|172.217.218.128|:443... connected.\n",
            "HTTP request sent, awaiting response... 200 OK\n",
            "Length: 93578 (91K) [text/plain]\n",
            "Saving to: ‘/tmp/sonnets.txt’\n",
            "\n",
            "\r/tmp/sonnets.txt      0%[                    ]       0  --.-KB/s               \r/tmp/sonnets.txt    100%[===================>]  91.38K  --.-KB/s    in 0.001s  \n",
            "\n",
            "2019-09-23 17:51:07 (149 MB/s) - ‘/tmp/sonnets.txt’ saved [93578/93578]\n",
            "\n"
          ],
          "name": "stdout"
        }
      ]
    },
    {
      "cell_type": "code",
      "metadata": {
        "id": "w9vH8Y59ajYL",
        "colab_type": "code",
        "colab": {
          "base_uri": "https://localhost:8080/",
          "height": 666
        },
        "outputId": "7655f7e5-68a9-45fd-9b4e-d1309050d349"
      },
      "source": [
        "model = Sequential()\n",
        "model.add(Embedding(total_words, 100, input_length = max_sequence_len-1))\n",
        "model.add(Bidirectional(LSTM(150, return_sequences = True)))\n",
        "model.add(Dropout(0.2))\n",
        "model.add(LSTM(100))\n",
        "model.add(Dense(total_words / 2, activation = 'relu', kernel_regularizer = regularizers.l2(0.01)))\n",
        "model.add(Dense(total_words, activation = 'softmax'))\n",
        "# Pick an optimizer\n",
        "model.compile(loss = 'categorical_crossentropy', optimizer = 'adam', metrics = ['accuracy'])\n",
        "print(model.summary())\n"
      ],
      "execution_count": 3,
      "outputs": [
        {
          "output_type": "stream",
          "text": [
            "WARNING: Logging before flag parsing goes to stderr.\n",
            "W0923 17:53:12.701234 140247366379392 deprecation.py:506] From /usr/local/lib/python2.7/dist-packages/tensorflow/python/keras/initializers.py:119: calling __init__ (from tensorflow.python.ops.init_ops) with dtype is deprecated and will be removed in a future version.\n",
            "Instructions for updating:\n",
            "Call initializer instance with the dtype argument instead of passing it to the constructor\n",
            "W0923 17:53:12.726090 140247366379392 deprecation.py:506] From /usr/local/lib/python2.7/dist-packages/tensorflow/python/ops/init_ops.py:1251: calling __init__ (from tensorflow.python.ops.init_ops) with dtype is deprecated and will be removed in a future version.\n",
            "Instructions for updating:\n",
            "Call initializer instance with the dtype argument instead of passing it to the constructor\n",
            "W0923 17:53:12.732479 140247366379392 deprecation.py:506] From /usr/local/lib/python2.7/dist-packages/tensorflow/python/ops/init_ops.py:97: calling __init__ (from tensorflow.python.ops.init_ops) with dtype is deprecated and will be removed in a future version.\n",
            "Instructions for updating:\n",
            "Call initializer instance with the dtype argument instead of passing it to the constructor\n",
            "W0923 17:53:12.733427 140247366379392 deprecation.py:506] From /usr/local/lib/python2.7/dist-packages/tensorflow/python/ops/init_ops.py:97: calling __init__ (from tensorflow.python.ops.init_ops) with dtype is deprecated and will be removed in a future version.\n",
            "Instructions for updating:\n",
            "Call initializer instance with the dtype argument instead of passing it to the constructor\n",
            "W0923 17:53:12.734834 140247366379392 deprecation.py:506] From /usr/local/lib/python2.7/dist-packages/tensorflow/python/ops/init_ops.py:97: calling __init__ (from tensorflow.python.ops.init_ops) with dtype is deprecated and will be removed in a future version.\n",
            "Instructions for updating:\n",
            "Call initializer instance with the dtype argument instead of passing it to the constructor\n"
          ],
          "name": "stderr"
        },
        {
          "output_type": "stream",
          "text": [
            "Model: \"sequential\"\n",
            "_________________________________________________________________\n",
            "Layer (type)                 Output Shape              Param #   \n",
            "=================================================================\n",
            "embedding (Embedding)        (None, 10, 100)           321100    \n",
            "_________________________________________________________________\n",
            "bidirectional (Bidirectional (None, 10, 300)           301200    \n",
            "_________________________________________________________________\n",
            "dropout (Dropout)            (None, 10, 300)           0         \n",
            "_________________________________________________________________\n",
            "lstm_1 (LSTM)                (None, 100)               160400    \n",
            "_________________________________________________________________\n",
            "dense (Dense)                (None, 1605)              162105    \n",
            "_________________________________________________________________\n",
            "dense_1 (Dense)              (None, 3211)              5156866   \n",
            "=================================================================\n",
            "Total params: 6,101,671\n",
            "Trainable params: 6,101,671\n",
            "Non-trainable params: 0\n",
            "_________________________________________________________________\n",
            "None\n"
          ],
          "name": "stdout"
        }
      ]
    },
    {
      "cell_type": "code",
      "metadata": {
        "id": "AIg2f1HBxqof",
        "colab_type": "code",
        "colab": {
          "base_uri": "https://localhost:8080/",
          "height": 1000
        },
        "outputId": "323cd7f1-3018-433d-eede-47c83abd2dbb"
      },
      "source": [
        " history = model.fit(predictors, label, epochs=100, verbose=1)"
      ],
      "execution_count": 4,
      "outputs": [
        {
          "output_type": "stream",
          "text": [
            "W0923 17:53:55.804817 140247366379392 deprecation.py:323] From /usr/local/lib/python2.7/dist-packages/tensorflow/python/ops/math_grad.py:1250: where (from tensorflow.python.ops.array_ops) is deprecated and will be removed in a future version.\n",
            "Instructions for updating:\n",
            "Use tf.where in 2.0, which has the same broadcast rule as np.where\n"
          ],
          "name": "stderr"
        },
        {
          "output_type": "stream",
          "text": [
            "Epoch 1/100\n",
            "15462/15462 [==============================] - 29s 2ms/sample - loss: 6.9066 - acc: 0.0214\n",
            "Epoch 2/100\n",
            "15462/15462 [==============================] - 27s 2ms/sample - loss: 6.4983 - acc: 0.0235\n",
            "Epoch 3/100\n",
            "15462/15462 [==============================] - 27s 2ms/sample - loss: 6.3777 - acc: 0.0255\n",
            "Epoch 4/100\n",
            "15462/15462 [==============================] - 27s 2ms/sample - loss: 6.2547 - acc: 0.0282\n",
            "Epoch 5/100\n",
            "15462/15462 [==============================] - 27s 2ms/sample - loss: 6.1726 - acc: 0.0347\n",
            "Epoch 6/100\n",
            "15462/15462 [==============================] - 27s 2ms/sample - loss: 6.0936 - acc: 0.0369\n",
            "Epoch 7/100\n",
            "15462/15462 [==============================] - 27s 2ms/sample - loss: 6.0145 - acc: 0.0382\n",
            "Epoch 8/100\n",
            "15462/15462 [==============================] - 27s 2ms/sample - loss: 5.9291 - acc: 0.0425\n",
            "Epoch 9/100\n",
            "15462/15462 [==============================] - 27s 2ms/sample - loss: 5.8366 - acc: 0.0503\n",
            "Epoch 10/100\n",
            "15462/15462 [==============================] - 27s 2ms/sample - loss: 5.7284 - acc: 0.0568\n",
            "Epoch 11/100\n",
            "15462/15462 [==============================] - 27s 2ms/sample - loss: 5.6149 - acc: 0.0633\n",
            "Epoch 12/100\n",
            "15462/15462 [==============================] - 27s 2ms/sample - loss: 5.5042 - acc: 0.0695\n",
            "Epoch 13/100\n",
            "15462/15462 [==============================] - 27s 2ms/sample - loss: 5.3979 - acc: 0.0768\n",
            "Epoch 14/100\n",
            "15462/15462 [==============================] - 27s 2ms/sample - loss: 5.2848 - acc: 0.0818\n",
            "Epoch 15/100\n",
            "15462/15462 [==============================] - 27s 2ms/sample - loss: 5.1690 - acc: 0.0901\n",
            "Epoch 16/100\n",
            "15462/15462 [==============================] - 27s 2ms/sample - loss: 5.0544 - acc: 0.0975\n",
            "Epoch 17/100\n",
            "15462/15462 [==============================] - 27s 2ms/sample - loss: 4.9479 - acc: 0.1050\n",
            "Epoch 18/100\n",
            "15462/15462 [==============================] - 27s 2ms/sample - loss: 4.8345 - acc: 0.1167\n",
            "Epoch 19/100\n",
            "15462/15462 [==============================] - 27s 2ms/sample - loss: 4.7206 - acc: 0.1277\n",
            "Epoch 20/100\n",
            "15462/15462 [==============================] - 27s 2ms/sample - loss: 4.6080 - acc: 0.1332\n",
            "Epoch 21/100\n",
            "15462/15462 [==============================] - 27s 2ms/sample - loss: 4.5014 - acc: 0.1434\n",
            "Epoch 22/100\n",
            "15462/15462 [==============================] - 27s 2ms/sample - loss: 4.3783 - acc: 0.1569\n",
            "Epoch 23/100\n",
            "15462/15462 [==============================] - 27s 2ms/sample - loss: 4.2693 - acc: 0.1728\n",
            "Epoch 24/100\n",
            "15462/15462 [==============================] - 27s 2ms/sample - loss: 4.1535 - acc: 0.1850\n",
            "Epoch 25/100\n",
            "15462/15462 [==============================] - 27s 2ms/sample - loss: 4.0465 - acc: 0.2036\n",
            "Epoch 26/100\n",
            "15462/15462 [==============================] - 27s 2ms/sample - loss: 3.9264 - acc: 0.2206\n",
            "Epoch 27/100\n",
            "15462/15462 [==============================] - 27s 2ms/sample - loss: 3.8190 - acc: 0.2382\n",
            "Epoch 28/100\n",
            "15462/15462 [==============================] - 27s 2ms/sample - loss: 3.7162 - acc: 0.2555\n",
            "Epoch 29/100\n",
            "15462/15462 [==============================] - 27s 2ms/sample - loss: 3.6089 - acc: 0.2788\n",
            "Epoch 30/100\n",
            "15462/15462 [==============================] - 27s 2ms/sample - loss: 3.5007 - acc: 0.3005\n",
            "Epoch 31/100\n",
            "15462/15462 [==============================] - 27s 2ms/sample - loss: 3.4081 - acc: 0.3216\n",
            "Epoch 32/100\n",
            "15462/15462 [==============================] - 27s 2ms/sample - loss: 3.3091 - acc: 0.3423\n",
            "Epoch 33/100\n",
            "15462/15462 [==============================] - 27s 2ms/sample - loss: 3.2211 - acc: 0.3648\n",
            "Epoch 34/100\n",
            "15462/15462 [==============================] - 27s 2ms/sample - loss: 3.1355 - acc: 0.3855\n",
            "Epoch 35/100\n",
            "15462/15462 [==============================] - 27s 2ms/sample - loss: 3.0447 - acc: 0.4057\n",
            "Epoch 36/100\n",
            "15462/15462 [==============================] - 27s 2ms/sample - loss: 2.9605 - acc: 0.4230\n",
            "Epoch 37/100\n",
            "15462/15462 [==============================] - 27s 2ms/sample - loss: 2.9019 - acc: 0.4338\n",
            "Epoch 38/100\n",
            "15462/15462 [==============================] - 27s 2ms/sample - loss: 2.8173 - acc: 0.4556\n",
            "Epoch 39/100\n",
            "15462/15462 [==============================] - 27s 2ms/sample - loss: 2.7417 - acc: 0.4749\n",
            "Epoch 40/100\n",
            "15462/15462 [==============================] - 27s 2ms/sample - loss: 2.6784 - acc: 0.4834\n",
            "Epoch 41/100\n",
            "15462/15462 [==============================] - 27s 2ms/sample - loss: 2.6062 - acc: 0.5071\n",
            "Epoch 42/100\n",
            "15462/15462 [==============================] - 27s 2ms/sample - loss: 2.5467 - acc: 0.5162\n",
            "Epoch 43/100\n",
            "15462/15462 [==============================] - 27s 2ms/sample - loss: 2.4907 - acc: 0.5281\n",
            "Epoch 44/100\n",
            "15462/15462 [==============================] - 27s 2ms/sample - loss: 2.4305 - acc: 0.5427\n",
            "Epoch 45/100\n",
            "15462/15462 [==============================] - 27s 2ms/sample - loss: 2.3762 - acc: 0.5554\n",
            "Epoch 46/100\n",
            "15462/15462 [==============================] - 27s 2ms/sample - loss: 2.3265 - acc: 0.5679\n",
            "Epoch 47/100\n",
            "15462/15462 [==============================] - 27s 2ms/sample - loss: 2.2627 - acc: 0.5824\n",
            "Epoch 48/100\n",
            "15462/15462 [==============================] - 27s 2ms/sample - loss: 2.2072 - acc: 0.5962\n",
            "Epoch 49/100\n",
            "15462/15462 [==============================] - 27s 2ms/sample - loss: 2.1636 - acc: 0.6062\n",
            "Epoch 50/100\n",
            "15462/15462 [==============================] - 27s 2ms/sample - loss: 2.1208 - acc: 0.6123\n",
            "Epoch 51/100\n",
            "15462/15462 [==============================] - 27s 2ms/sample - loss: 2.0742 - acc: 0.6259\n",
            "Epoch 52/100\n",
            "15462/15462 [==============================] - 27s 2ms/sample - loss: 2.0474 - acc: 0.6300\n",
            "Epoch 53/100\n",
            "15462/15462 [==============================] - 27s 2ms/sample - loss: 1.9922 - acc: 0.6420\n",
            "Epoch 54/100\n",
            "15462/15462 [==============================] - 28s 2ms/sample - loss: 1.9516 - acc: 0.6486\n",
            "Epoch 55/100\n",
            "15462/15462 [==============================] - 27s 2ms/sample - loss: 1.9054 - acc: 0.6623\n",
            "Epoch 56/100\n",
            "15462/15462 [==============================] - 27s 2ms/sample - loss: 1.8800 - acc: 0.6619\n",
            "Epoch 57/100\n",
            "15462/15462 [==============================] - 27s 2ms/sample - loss: 1.8510 - acc: 0.6698\n",
            "Epoch 58/100\n",
            "15462/15462 [==============================] - 27s 2ms/sample - loss: 1.8172 - acc: 0.6747\n",
            "Epoch 59/100\n",
            "15462/15462 [==============================] - 27s 2ms/sample - loss: 1.7826 - acc: 0.6840\n",
            "Epoch 60/100\n",
            "15462/15462 [==============================] - 27s 2ms/sample - loss: 1.7540 - acc: 0.6929\n",
            "Epoch 61/100\n",
            "15462/15462 [==============================] - 27s 2ms/sample - loss: 1.7128 - acc: 0.7016\n",
            "Epoch 62/100\n",
            "15462/15462 [==============================] - 27s 2ms/sample - loss: 1.6888 - acc: 0.7054\n",
            "Epoch 63/100\n",
            "15462/15462 [==============================] - 27s 2ms/sample - loss: 1.6563 - acc: 0.7148\n",
            "Epoch 64/100\n",
            "15462/15462 [==============================] - 27s 2ms/sample - loss: 1.6386 - acc: 0.7123\n",
            "Epoch 65/100\n",
            "15462/15462 [==============================] - 27s 2ms/sample - loss: 1.6006 - acc: 0.7235\n",
            "Epoch 66/100\n",
            "15462/15462 [==============================] - 26s 2ms/sample - loss: 1.5852 - acc: 0.7219\n",
            "Epoch 67/100\n",
            "15462/15462 [==============================] - 26s 2ms/sample - loss: 1.5597 - acc: 0.7321\n",
            "Epoch 68/100\n",
            "15462/15462 [==============================] - 26s 2ms/sample - loss: 1.5392 - acc: 0.7338\n",
            "Epoch 69/100\n",
            "15462/15462 [==============================] - 27s 2ms/sample - loss: 1.5177 - acc: 0.7391\n",
            "Epoch 70/100\n",
            "15462/15462 [==============================] - 27s 2ms/sample - loss: 1.4850 - acc: 0.7450\n",
            "Epoch 71/100\n",
            "15462/15462 [==============================] - 27s 2ms/sample - loss: 1.4794 - acc: 0.7469\n",
            "Epoch 72/100\n",
            "15462/15462 [==============================] - 27s 2ms/sample - loss: 1.4614 - acc: 0.7479\n",
            "Epoch 73/100\n",
            "15462/15462 [==============================] - 26s 2ms/sample - loss: 1.4344 - acc: 0.7557\n",
            "Epoch 74/100\n",
            "15462/15462 [==============================] - 27s 2ms/sample - loss: 1.4166 - acc: 0.7592\n",
            "Epoch 75/100\n",
            "15462/15462 [==============================] - 27s 2ms/sample - loss: 1.3987 - acc: 0.7604\n",
            "Epoch 76/100\n",
            "15462/15462 [==============================] - 27s 2ms/sample - loss: 1.3717 - acc: 0.7667\n",
            "Epoch 77/100\n",
            "15462/15462 [==============================] - 27s 2ms/sample - loss: 1.3551 - acc: 0.7679\n",
            "Epoch 78/100\n",
            "15462/15462 [==============================] - 27s 2ms/sample - loss: 1.3532 - acc: 0.7656\n",
            "Epoch 79/100\n",
            "15462/15462 [==============================] - 26s 2ms/sample - loss: 1.3253 - acc: 0.7732\n",
            "Epoch 80/100\n",
            "15462/15462 [==============================] - 26s 2ms/sample - loss: 1.3150 - acc: 0.7771\n",
            "Epoch 81/100\n",
            "15462/15462 [==============================] - 27s 2ms/sample - loss: 1.2976 - acc: 0.7788\n",
            "Epoch 82/100\n",
            "15462/15462 [==============================] - 27s 2ms/sample - loss: 1.2872 - acc: 0.7754\n",
            "Epoch 83/100\n",
            "15462/15462 [==============================] - 27s 2ms/sample - loss: 1.2765 - acc: 0.7787\n",
            "Epoch 84/100\n",
            "15462/15462 [==============================] - 27s 2ms/sample - loss: 1.2621 - acc: 0.7835\n",
            "Epoch 85/100\n",
            "15462/15462 [==============================] - 27s 2ms/sample - loss: 1.2593 - acc: 0.7821\n",
            "Epoch 86/100\n",
            "15462/15462 [==============================] - 26s 2ms/sample - loss: 1.2352 - acc: 0.7891\n",
            "Epoch 87/100\n",
            "15462/15462 [==============================] - 27s 2ms/sample - loss: 1.2102 - acc: 0.7927\n",
            "Epoch 88/100\n",
            "15462/15462 [==============================] - 26s 2ms/sample - loss: 1.2193 - acc: 0.7910\n",
            "Epoch 89/100\n",
            "15462/15462 [==============================] - 26s 2ms/sample - loss: 1.1986 - acc: 0.7938\n",
            "Epoch 90/100\n",
            "15462/15462 [==============================] - 27s 2ms/sample - loss: 1.1997 - acc: 0.7929\n",
            "Epoch 91/100\n",
            "15462/15462 [==============================] - 27s 2ms/sample - loss: 1.1811 - acc: 0.7954\n",
            "Epoch 92/100\n",
            "15462/15462 [==============================] - 27s 2ms/sample - loss: 1.1710 - acc: 0.7962\n",
            "Epoch 93/100\n",
            "15462/15462 [==============================] - 26s 2ms/sample - loss: 1.1580 - acc: 0.7987\n",
            "Epoch 94/100\n",
            "15462/15462 [==============================] - 26s 2ms/sample - loss: 1.1534 - acc: 0.7972\n",
            "Epoch 95/100\n",
            "15462/15462 [==============================] - 26s 2ms/sample - loss: 1.1381 - acc: 0.8026\n",
            "Epoch 96/100\n",
            "15462/15462 [==============================] - 27s 2ms/sample - loss: 1.1326 - acc: 0.8033\n",
            "Epoch 97/100\n",
            "15462/15462 [==============================] - 26s 2ms/sample - loss: 1.1260 - acc: 0.8066\n",
            "Epoch 98/100\n",
            "15462/15462 [==============================] - 26s 2ms/sample - loss: 1.1184 - acc: 0.8064\n",
            "Epoch 99/100\n",
            "15462/15462 [==============================] - 27s 2ms/sample - loss: 1.0945 - acc: 0.8085\n",
            "Epoch 100/100\n",
            "15462/15462 [==============================] - 26s 2ms/sample - loss: 1.0927 - acc: 0.8088\n"
          ],
          "name": "stdout"
        }
      ]
    },
    {
      "cell_type": "code",
      "metadata": {
        "id": "1fXTEO3GJ282",
        "colab_type": "code",
        "colab": {
          "base_uri": "https://localhost:8080/",
          "height": 545
        },
        "outputId": "86c269e4-9cdd-4edb-e0fb-4b1a6a91d3c3"
      },
      "source": [
        "import matplotlib.pyplot as plt\n",
        "acc = history.history['acc']\n",
        "loss = history.history['loss']\n",
        "\n",
        "epochs = range(len(acc))\n",
        "\n",
        "plt.plot(epochs, acc, 'b', label='Training accuracy')\n",
        "plt.title('Training accuracy')\n",
        "\n",
        "plt.figure()\n",
        "\n",
        "plt.plot(epochs, loss, 'b', label='Training Loss')\n",
        "plt.title('Training loss')\n",
        "plt.legend()\n",
        "\n",
        "plt.show()"
      ],
      "execution_count": 5,
      "outputs": [
        {
          "output_type": "display_data",
          "data": {
            "image/png": "[encoded data removed]",
            "text/plain": [
              "<Figure size 432x288 with 1 Axes>"
            ]
          },
          "metadata": {
            "tags": []
          }
        },
        {
          "output_type": "display_data",
          "data": {
            "image/png": "[encoded data removed]",
            "text/plain": [
              "<Figure size 432x288 with 1 Axes>"
            ]
          },
          "metadata": {
            "tags": []
          }
        }
      ]
    },
    {
      "cell_type": "code",
      "metadata": {
        "id": "6Vc6PHgxa6Hm",
        "colab_type": "code",
        "colab": {
          "base_uri": "https://localhost:8080/",
          "height": 54
        },
        "outputId": "5dd4d1f2-b7cb-4e5b-dc4f-72c68ee6ab0c"
      },
      "source": [
        "seed_text = \"Help me Obi Wan Kenobi, you're my only hope\"\n",
        "next_words = 100\n",
        "  \n",
        "for _ in range(next_words):\n",
        "\ttoken_list = tokenizer.texts_to_sequences([seed_text])[0]\n",
        "\ttoken_list = pad_sequences([token_list], maxlen=max_sequence_len-1, padding='pre')\n",
        "\tpredicted = model.predict_classes(token_list, verbose=0)\n",
        "\toutput_word = \"\"\n",
        "\tfor word, index in tokenizer.word_index.items():\n",
        "\t\tif index == predicted:\n",
        "\t\t\toutput_word = word\n",
        "\t\t\tbreak\n",
        "\tseed_text += \" \" + output_word\n",
        "print(seed_text)"
      ],
      "execution_count": 6,
      "outputs": [
        {
          "output_type": "stream",
          "text": [
            "Help me Obi Wan Kenobi, you're my only hope thou be too bright be lend thee twain old old rhyme grave rhyme ' 'tis say thee counted bright thus look so dumb old rhyme ' ' lies go thus there lies store decays lust so common grave shall boast did know thee not not free be strife bold bold lend me cross cross write more bright do bright decays room room express'd express'd spent night new cross night well grow fix'd so part doth far night o'er doom of crime warm'd indigest dyed hour forth dead view view view grow mad race moan pleasure each ' night night still\n"
          ],
          "name": "stdout"
        }
      ]
    }
  ]
}