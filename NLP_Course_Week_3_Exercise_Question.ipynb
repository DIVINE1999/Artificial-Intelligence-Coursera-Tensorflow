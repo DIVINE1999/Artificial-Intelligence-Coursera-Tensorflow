{
  "nbformat": 4,
  "nbformat_minor": 0,
  "metadata": {
    "colab": {
      "name": "NLP Course - Week 3 Exercise Question.ipynb",
      "provenance": []
    },
    "kernelspec": {
      "name": "python3",
      "display_name": "Python 3"
    },
    "accelerator": "GPU"
  },
  "cells": [
    {
      "cell_type": "code",
      "metadata": {
        "id": "hmA6EzkQJ5jt",
        "colab_type": "code",
        "colab": {}
      },
      "source": [
        "import json\n",
        "import tensorflow as tf\n",
        "import csv\n",
        "import random\n",
        "import numpy as np\n",
        "\n",
        "from tensorflow.keras.preprocessing.text import Tokenizer\n",
        "from tensorflow.keras.preprocessing.sequence import pad_sequences\n",
        "from tensorflow.keras.utils import to_categorical\n",
        "from tensorflow.keras import regularizers\n",
        "\n",
        "\n",
        "embedding_dim = 100\n",
        "max_length = 16\n",
        "trunc_type='post'\n",
        "padding_type='post'\n",
        "oov_tok = \"<OOV>\"\n",
        "training_size= 160000\n",
        "test_portion=.1\n",
        "\n",
        "corpus = []\n"
      ],
      "execution_count": 0,
      "outputs": []
    },
    {
      "cell_type": "code",
      "metadata": {
        "id": "bM0l_dORKqE0",
        "colab_type": "code",
        "outputId": "d8a436c0-c872-4f7d-abf3-f237f2ad9f8f",
        "colab": {
          "base_uri": "https://localhost:8080/",
          "height": 204
        }
      },
      "source": [
        "\n",
        "# Note that I cleaned the Stanford dataset to remove LATIN1 encoding to make it easier for Python CSV reader\n",
        "# You can do that yourself with:\n",
        "# iconv -f LATIN1 -t UTF8 training.1600000.processed.noemoticon.csv -o training_cleaned.csv\n",
        "# I then hosted it on my site to make it easier to use in this notebook\n",
        "\n",
        "!wget --no-check-certificate \\\n",
        "    https://storage.googleapis.com/laurencemoroney-blog.appspot.com/training_cleaned.csv \\\n",
        "    -O /tmp/training_cleaned.csv\n",
        "\n",
        "num_sentences = 0\n",
        "\n",
        "with open(\"/tmp/training_cleaned.csv\") as csvfile:\n",
        "    reader = csv.reader(csvfile, delimiter=',')\n",
        "    for row in reader:\n",
        "      # Your Code here. Create list items where the first item is the text, found in row[5], and the second is the label. Note that the label is a '0' or a '4' in the text. When it's the former, make\n",
        "      # your label to be 0, otherwise 1. Keep a count of the number of sentences in num_sentences\n",
        "        list_item=[]\n",
        "        # YOUR CODE HERE\n",
        "        list_item.append(row[5])\n",
        "        current = row[0]\n",
        "        if current == '0':\n",
        "          list_item.append(0)\n",
        "        else:\n",
        "          list_item.append(1)\n",
        "        num_sentences = num_sentences + 1\n",
        "        corpus.append(list_item)\n",
        "\n",
        "\n"
      ],
      "execution_count": 2,
      "outputs": [
        {
          "output_type": "stream",
          "text": [
            "--2019-09-21 16:47:37--  https://storage.googleapis.com/laurencemoroney-blog.appspot.com/training_cleaned.csv\n",
            "Resolving storage.googleapis.com (storage.googleapis.com)... 74.125.204.128, 2404:6800:4008:c04::80\n",
            "Connecting to storage.googleapis.com (storage.googleapis.com)|74.125.204.128|:443... connected.\n",
            "HTTP request sent, awaiting response... 200 OK\n",
            "Length: 238942690 (228M) [application/octet-stream]\n",
            "Saving to: ‘/tmp/training_cleaned.csv’\n",
            "\n",
            "/tmp/training_clean 100%[===================>] 227.87M  61.4MB/s    in 3.7s    \n",
            "\n",
            "2019-09-21 16:47:46 (61.4 MB/s) - ‘/tmp/training_cleaned.csv’ saved [238942690/238942690]\n",
            "\n"
          ],
          "name": "stdout"
        }
      ]
    },
    {
      "cell_type": "code",
      "metadata": {
        "id": "3kxblBUjEUX-",
        "colab_type": "code",
        "outputId": "a0951ac4-9483-47c1-a457-eb7c8b13a6ee",
        "colab": {
          "base_uri": "https://localhost:8080/",
          "height": 68
        }
      },
      "source": [
        "print(num_sentences)\n",
        "print(len(corpus))\n",
        "print(corpus[1])\n",
        "\n",
        "# Expected Output:\n",
        "# 1600000\n",
        "# 1600000\n",
        "# [\"is upset that he can't update his Facebook by texting it... and might cry as a result  School today also. Blah!\", 0]"
      ],
      "execution_count": 3,
      "outputs": [
        {
          "output_type": "stream",
          "text": [
            "1600000\n",
            "1600000\n",
            "[\"is upset that he can't update his Facebook by texting it... and might cry as a result  School today also. Blah!\", 0]\n"
          ],
          "name": "stdout"
        }
      ]
    },
    {
      "cell_type": "code",
      "metadata": {
        "id": "ohOGz24lsNAD",
        "colab_type": "code",
        "colab": {}
      },
      "source": [
        "sentences=[]\n",
        "labels=[]\n",
        "random.shuffle(corpus)\n",
        "for x in range(training_size):\n",
        "    sentences.append(corpus[x][0])\n",
        "    labels.append(corpus[x][1])\n",
        "\n",
        "\n",
        "tokenizer = Tokenizer()\n",
        "tokenizer.fit_on_texts(sentences)\n",
        "\n",
        "word_index = tokenizer.word_index\n",
        "vocab_size=len(word_index)\n",
        "\n",
        "sequences = tokenizer.texts_to_sequences(sentences)\n",
        "padded = pad_sequences(sequences, maxlen = max_length, padding = padding_type, truncating = trunc_type)\n",
        "\n",
        "split = int(test_portion * training_size)\n",
        "\n",
        "test_sequences = padded[0:split]\n",
        "training_sequences = padded[split:training_size]\n",
        "test_labels = labels[0:split]\n",
        "training_labels = labels[split:training_size]"
      ],
      "execution_count": 0,
      "outputs": []
    },
    {
      "cell_type": "code",
      "metadata": {
        "id": "gIrtRem1En3N",
        "colab_type": "code",
        "outputId": "e8fd4e69-f9d4-433b-b09d-9a12a50068d7",
        "colab": {
          "base_uri": "https://localhost:8080/",
          "height": 51
        }
      },
      "source": [
        "print(vocab_size)\n",
        "print(word_index['i'])\n",
        "# Expected Output\n",
        "# 138858\n",
        "# 1"
      ],
      "execution_count": 8,
      "outputs": [
        {
          "output_type": "stream",
          "text": [
            "138445\n",
            "1\n"
          ],
          "name": "stdout"
        }
      ]
    },
    {
      "cell_type": "code",
      "metadata": {
        "id": "C1zdgJkusRh0",
        "colab_type": "code",
        "outputId": "142e89dd-c51a-47b8-d3f9-9f6e0e7326e4",
        "colab": {
          "base_uri": "https://localhost:8080/",
          "height": 204
        }
      },
      "source": [
        "# Note this is the 100 dimension version of GloVe from Stanford\n",
        "# I unzipped and hosted it on my site to make this notebook easier\n",
        "!wget --no-check-certificate \\\n",
        "    https://storage.googleapis.com/laurencemoroney-blog.appspot.com/glove.6B.100d.txt \\\n",
        "    -O /tmp/glove.6B.100d.txt\n",
        "embeddings_index = {};\n",
        "with open('/tmp/glove.6B.100d.txt') as f:\n",
        "    for line in f:\n",
        "        values = line.split();\n",
        "        word = values[0];\n",
        "        coefs = np.asarray(values[1:], dtype='float32');\n",
        "        embeddings_index[word] = coefs;\n",
        "\n",
        "embeddings_matrix = np.zeros((vocab_size+1, embedding_dim));\n",
        "for word, i in word_index.items():\n",
        "    embedding_vector = embeddings_index.get(word);\n",
        "    if embedding_vector is not None:\n",
        "        embeddings_matrix[i] = embedding_vector;"
      ],
      "execution_count": 9,
      "outputs": [
        {
          "output_type": "stream",
          "text": [
            "--2019-09-21 16:57:56--  https://storage.googleapis.com/laurencemoroney-blog.appspot.com/glove.6B.100d.txt\n",
            "Resolving storage.googleapis.com (storage.googleapis.com)... 74.125.204.128, 2404:6800:4008:c00::80\n",
            "Connecting to storage.googleapis.com (storage.googleapis.com)|74.125.204.128|:443... connected.\n",
            "HTTP request sent, awaiting response... 200 OK\n",
            "Length: 347116733 (331M) [text/plain]\n",
            "Saving to: ‘/tmp/glove.6B.100d.txt’\n",
            "\n",
            "/tmp/glove.6B.100d. 100%[===================>] 331.04M  94.7MB/s    in 3.5s    \n",
            "\n",
            "2019-09-21 16:58:00 (94.7 MB/s) - ‘/tmp/glove.6B.100d.txt’ saved [347116733/347116733]\n",
            "\n"
          ],
          "name": "stdout"
        }
      ]
    },
    {
      "cell_type": "code",
      "metadata": {
        "id": "71NLk_lpFLNt",
        "colab_type": "code",
        "outputId": "94c2ec18-589e-403f-a759-d8af309e6fe7",
        "colab": {
          "base_uri": "https://localhost:8080/",
          "height": 34
        }
      },
      "source": [
        "print(len(embeddings_matrix))\n",
        "# Expected Output\n",
        "# 138859"
      ],
      "execution_count": 10,
      "outputs": [
        {
          "output_type": "stream",
          "text": [
            "138446\n"
          ],
          "name": "stdout"
        }
      ]
    },
    {
      "cell_type": "code",
      "metadata": {
        "colab_type": "code",
        "id": "iKKvbuEBOGFz",
        "colab": {
          "base_uri": "https://localhost:8080/",
          "height": 1000
        },
        "outputId": "46f43137-5f40-430f-8b1d-2014ed327909"
      },
      "source": [
        "model = tf.keras.Sequential([\n",
        "    tf.keras.layers.Embedding(vocab_size+1, embedding_dim, input_length=max_length, weights=[embeddings_matrix], trainable=False),\n",
        "    tf.keras.layers.Conv1D(64, 5, activation = 'relu'),\n",
        "    tf.keras.layers.GlobalAveragePooling1D(),\n",
        "    tf.keras.layers.Dense(6, activation = 'relu'),\n",
        "    tf.keras.layers.Dense(1, activation = 'sigmoid')\n",
        "])\n",
        "model.compile(loss = 'binary_crossentropy', optimizer = 'adam', metrics = ['accuracy'])\n",
        "model.summary()\n",
        "\n",
        "num_epochs = 50\n",
        "history = model.fit(training_sequences, training_labels, epochs=num_epochs, validation_data=(test_sequences, test_labels), verbose=2)\n",
        "\n",
        "print(\"Training Complete\")\n"
      ],
      "execution_count": 16,
      "outputs": [
        {
          "output_type": "stream",
          "text": [
            "WARNING:tensorflow:From /usr/local/lib/python3.6/dist-packages/tensorflow/python/ops/nn_impl.py:180: add_dispatch_support.<locals>.wrapper (from tensorflow.python.ops.array_ops) is deprecated and will be removed in a future version.\n",
            "Instructions for updating:\n",
            "Use tf.where in 2.0, which has the same broadcast rule as np.where\n",
            "Model: \"sequential_4\"\n",
            "_________________________________________________________________\n",
            "Layer (type)                 Output Shape              Param #   \n",
            "=================================================================\n",
            "embedding_5 (Embedding)      (None, 16, 100)           13844600  \n",
            "_________________________________________________________________\n",
            "conv1d_5 (Conv1D)            (None, 12, 64)            32064     \n",
            "_________________________________________________________________\n",
            "global_average_pooling1d_5 ( (None, 64)                0         \n",
            "_________________________________________________________________\n",
            "dense_8 (Dense)              (None, 6)                 390       \n",
            "_________________________________________________________________\n",
            "dense_9 (Dense)              (None, 1)                 7         \n",
            "=================================================================\n",
            "Total params: 13,877,061\n",
            "Trainable params: 32,461\n",
            "Non-trainable params: 13,844,600\n",
            "_________________________________________________________________\n",
            "Train on 144000 samples, validate on 16000 samples\n",
            "Epoch 1/50\n",
            "144000/144000 - 22s - loss: 0.5850 - acc: 0.6846 - val_loss: 0.5390 - val_acc: 0.7218\n",
            "Epoch 2/50\n",
            "144000/144000 - 19s - loss: 0.5223 - acc: 0.7355 - val_loss: 0.5152 - val_acc: 0.7374\n",
            "Epoch 3/50\n",
            "144000/144000 - 19s - loss: 0.5018 - acc: 0.7495 - val_loss: 0.5003 - val_acc: 0.7512\n",
            "Epoch 4/50\n",
            "144000/144000 - 19s - loss: 0.4848 - acc: 0.7616 - val_loss: 0.5011 - val_acc: 0.7538\n",
            "Epoch 5/50\n",
            "144000/144000 - 19s - loss: 0.4717 - acc: 0.7699 - val_loss: 0.5067 - val_acc: 0.7482\n",
            "Epoch 6/50\n",
            "144000/144000 - 19s - loss: 0.4599 - acc: 0.7759 - val_loss: 0.5046 - val_acc: 0.7491\n",
            "Epoch 7/50\n",
            "144000/144000 - 19s - loss: 0.4490 - acc: 0.7836 - val_loss: 0.5047 - val_acc: 0.7520\n",
            "Epoch 8/50\n",
            "144000/144000 - 19s - loss: 0.4402 - acc: 0.7889 - val_loss: 0.5141 - val_acc: 0.7507\n",
            "Epoch 9/50\n",
            "144000/144000 - 20s - loss: 0.4303 - acc: 0.7943 - val_loss: 0.5351 - val_acc: 0.7339\n",
            "Epoch 10/50\n",
            "144000/144000 - 19s - loss: 0.4236 - acc: 0.7988 - val_loss: 0.5173 - val_acc: 0.7486\n",
            "Epoch 11/50\n",
            "144000/144000 - 19s - loss: 0.4172 - acc: 0.8021 - val_loss: 0.5434 - val_acc: 0.7422\n",
            "Epoch 12/50\n",
            "144000/144000 - 19s - loss: 0.4101 - acc: 0.8067 - val_loss: 0.5396 - val_acc: 0.7387\n",
            "Epoch 13/50\n",
            "144000/144000 - 19s - loss: 0.4049 - acc: 0.8096 - val_loss: 0.5699 - val_acc: 0.7381\n",
            "Epoch 14/50\n",
            "144000/144000 - 19s - loss: 0.3992 - acc: 0.8120 - val_loss: 0.5587 - val_acc: 0.7368\n",
            "Epoch 15/50\n",
            "144000/144000 - 19s - loss: 0.3943 - acc: 0.8149 - val_loss: 0.5504 - val_acc: 0.7431\n",
            "Epoch 16/50\n",
            "144000/144000 - 19s - loss: 0.3886 - acc: 0.8185 - val_loss: 0.5748 - val_acc: 0.7380\n",
            "Epoch 17/50\n",
            "144000/144000 - 19s - loss: 0.3842 - acc: 0.8200 - val_loss: 0.5859 - val_acc: 0.7384\n",
            "Epoch 18/50\n",
            "144000/144000 - 19s - loss: 0.3797 - acc: 0.8223 - val_loss: 0.5709 - val_acc: 0.7371\n",
            "Epoch 19/50\n",
            "144000/144000 - 20s - loss: 0.3757 - acc: 0.8242 - val_loss: 0.5678 - val_acc: 0.7346\n",
            "Epoch 20/50\n",
            "144000/144000 - 19s - loss: 0.3713 - acc: 0.8273 - val_loss: 0.6050 - val_acc: 0.7398\n",
            "Epoch 21/50\n",
            "144000/144000 - 19s - loss: 0.3675 - acc: 0.8286 - val_loss: 0.6078 - val_acc: 0.7377\n",
            "Epoch 22/50\n",
            "144000/144000 - 19s - loss: 0.3650 - acc: 0.8293 - val_loss: 0.6131 - val_acc: 0.7351\n",
            "Epoch 23/50\n",
            "144000/144000 - 19s - loss: 0.3618 - acc: 0.8317 - val_loss: 0.6105 - val_acc: 0.7369\n",
            "Epoch 24/50\n",
            "144000/144000 - 19s - loss: 0.3584 - acc: 0.8332 - val_loss: 0.6277 - val_acc: 0.7387\n",
            "Epoch 25/50\n",
            "144000/144000 - 20s - loss: 0.3549 - acc: 0.8351 - val_loss: 0.6008 - val_acc: 0.7361\n",
            "Epoch 26/50\n",
            "144000/144000 - 19s - loss: 0.3528 - acc: 0.8361 - val_loss: 0.6417 - val_acc: 0.7322\n",
            "Epoch 27/50\n",
            "144000/144000 - 19s - loss: 0.3493 - acc: 0.8377 - val_loss: 0.6421 - val_acc: 0.7319\n",
            "Epoch 28/50\n",
            "144000/144000 - 19s - loss: 0.3466 - acc: 0.8381 - val_loss: 0.6729 - val_acc: 0.7344\n",
            "Epoch 29/50\n",
            "144000/144000 - 19s - loss: 0.3443 - acc: 0.8402 - val_loss: 0.6727 - val_acc: 0.7320\n",
            "Epoch 30/50\n",
            "144000/144000 - 19s - loss: 0.3411 - acc: 0.8413 - val_loss: 0.6467 - val_acc: 0.7312\n",
            "Epoch 31/50\n",
            "144000/144000 - 19s - loss: 0.3379 - acc: 0.8430 - val_loss: 0.7038 - val_acc: 0.7355\n",
            "Epoch 32/50\n",
            "144000/144000 - 19s - loss: 0.3366 - acc: 0.8435 - val_loss: 0.6633 - val_acc: 0.7280\n",
            "Epoch 33/50\n",
            "144000/144000 - 19s - loss: 0.3340 - acc: 0.8444 - val_loss: 0.6865 - val_acc: 0.7202\n",
            "Epoch 34/50\n",
            "144000/144000 - 19s - loss: 0.3318 - acc: 0.8451 - val_loss: 0.7252 - val_acc: 0.7316\n",
            "Epoch 35/50\n",
            "144000/144000 - 19s - loss: 0.3294 - acc: 0.8470 - val_loss: 0.7200 - val_acc: 0.7291\n",
            "Epoch 36/50\n",
            "144000/144000 - 19s - loss: 0.3277 - acc: 0.8475 - val_loss: 0.7321 - val_acc: 0.7327\n",
            "Epoch 37/50\n",
            "144000/144000 - 19s - loss: 0.3245 - acc: 0.8498 - val_loss: 0.7484 - val_acc: 0.7334\n",
            "Epoch 38/50\n",
            "144000/144000 - 19s - loss: 0.3230 - acc: 0.8495 - val_loss: 0.7131 - val_acc: 0.7253\n",
            "Epoch 39/50\n",
            "144000/144000 - 19s - loss: 0.3212 - acc: 0.8499 - val_loss: 0.7299 - val_acc: 0.7289\n",
            "Epoch 40/50\n",
            "144000/144000 - 19s - loss: 0.3184 - acc: 0.8512 - val_loss: 0.7294 - val_acc: 0.7255\n",
            "Epoch 41/50\n",
            "144000/144000 - 20s - loss: 0.3178 - acc: 0.8518 - val_loss: 0.7731 - val_acc: 0.7279\n",
            "Epoch 42/50\n",
            "144000/144000 - 19s - loss: 0.3159 - acc: 0.8533 - val_loss: 0.7573 - val_acc: 0.7262\n",
            "Epoch 43/50\n",
            "144000/144000 - 19s - loss: 0.3139 - acc: 0.8537 - val_loss: 0.7729 - val_acc: 0.7283\n",
            "Epoch 44/50\n",
            "144000/144000 - 19s - loss: 0.3123 - acc: 0.8551 - val_loss: 0.7375 - val_acc: 0.7206\n",
            "Epoch 45/50\n",
            "144000/144000 - 19s - loss: 0.3104 - acc: 0.8556 - val_loss: 0.7864 - val_acc: 0.7265\n",
            "Epoch 46/50\n",
            "144000/144000 - 19s - loss: 0.3095 - acc: 0.8556 - val_loss: 0.7925 - val_acc: 0.7256\n",
            "Epoch 47/50\n",
            "144000/144000 - 19s - loss: 0.3065 - acc: 0.8568 - val_loss: 0.8017 - val_acc: 0.7274\n",
            "Epoch 48/50\n",
            "144000/144000 - 19s - loss: 0.3056 - acc: 0.8580 - val_loss: 0.8240 - val_acc: 0.7241\n",
            "Epoch 49/50\n",
            "144000/144000 - 19s - loss: 0.3044 - acc: 0.8584 - val_loss: 0.8301 - val_acc: 0.7220\n",
            "Epoch 50/50\n",
            "144000/144000 - 19s - loss: 0.3026 - acc: 0.8603 - val_loss: 0.8203 - val_acc: 0.7264\n",
            "Training Complete\n"
          ],
          "name": "stdout"
        }
      ]
    },
    {
      "cell_type": "code",
      "metadata": {
        "id": "qxju4ItJKO8F",
        "colab_type": "code",
        "colab": {
          "base_uri": "https://localhost:8080/",
          "height": 607
        },
        "outputId": "563cbf1b-e544-4675-b8b5-673ff6725410"
      },
      "source": [
        "import matplotlib.image  as mpimg\n",
        "import matplotlib.pyplot as plt\n",
        "\n",
        "#-----------------------------------------------------------\n",
        "# Retrieve a list of list results on training and test data\n",
        "# sets for each training epoch\n",
        "#-----------------------------------------------------------\n",
        "acc=history.history['acc']\n",
        "val_acc=history.history['val_acc']\n",
        "loss=history.history['loss']\n",
        "val_loss=history.history['val_loss']\n",
        "\n",
        "epochs=range(len(acc)) # Get number of epochs\n",
        "\n",
        "#------------------------------------------------\n",
        "# Plot training and validation accuracy per epoch\n",
        "#------------------------------------------------\n",
        "plt.plot(epochs, acc, 'r')\n",
        "plt.plot(epochs, val_acc, 'b')\n",
        "plt.title('Training and validation accuracy')\n",
        "plt.xlabel(\"Epochs\")\n",
        "plt.ylabel(\"Accuracy\")\n",
        "plt.legend([\"Accuracy\", \"Validation Accuracy\"])\n",
        "\n",
        "plt.figure()\n",
        "\n",
        "#------------------------------------------------\n",
        "# Plot training and validation loss per epoch\n",
        "#------------------------------------------------\n",
        "plt.plot(epochs, loss, 'r')\n",
        "plt.plot(epochs, val_loss, 'b')\n",
        "plt.title('Training and validation loss')\n",
        "plt.xlabel(\"Epochs\")\n",
        "plt.ylabel(\"Loss\")\n",
        "plt.legend([\"Loss\", \"Validation Loss\"])\n",
        "\n",
        "plt.figure()\n",
        "\n",
        "\n",
        "# Expected Output\n",
        "# A chart where the validation loss does not increase sharply!"
      ],
      "execution_count": 17,
      "outputs": [
        {
          "output_type": "execute_result",
          "data": {
            "text/plain": [
              "<Figure size 432x288 with 0 Axes>"
            ]
          },
          "metadata": {
            "tags": []
          },
          "execution_count": 17
        },
        {
          "output_type": "display_data",
          "data": {
            "image/png": "[encoded data removed]",
            "text/plain": [
              "<Figure size 432x288 with 1 Axes>"
            ]
          },
          "metadata": {
            "tags": []
          }
        },
        {
          "output_type": "display_data",
          "data": {
            "image/png": "[encoded data removed]",
            "text/plain": [
              "<Figure size 432x288 with 1 Axes>"
            ]
          },
          "metadata": {
            "tags": []
          }
        },
        {
          "output_type": "display_data",
          "data": {
            "text/plain": [
              "<Figure size 432x288 with 0 Axes>"
            ]
          },
          "metadata": {
            "tags": []
          }
        }
      ]
    }
  ]
}